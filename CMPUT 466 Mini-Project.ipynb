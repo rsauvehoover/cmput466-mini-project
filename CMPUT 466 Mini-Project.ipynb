{
 "cells": [
  {
   "cell_type": "markdown",
   "metadata": {},
   "source": [
    "## Machine Learning Problem\n",
    "\n",
    "The dataset is weather data from the edmonton city-center from 1961 to 1994, with the goal to predict weather \"descriptions\" (i.e. cloudy, snow, rain etc) from features (temperature, relhumidity, pressure)\n",
    "\n",
    "\n",
    "### Classifiers\n",
    "I choose 3 classifiers + the baseline to explore the performance of different algorithms, all using the\n",
    "scikit-learn implementations\n",
    "\\begin{itemize}\n",
    "    \\item There's the obvious baseline of a $\\frac{1}{k}$ zero-classifier, which we will hopefully outperform\n",
    "    \\item Linear regression as a basic model\n",
    "    \\item SVM\n",
    "    \\item and a relatively simple multi-layer perceptron neural net from SKLearn\n",
    "\\end{itemize}"
   ]
  },
  {
   "cell_type": "code",
   "execution_count": 98,
   "metadata": {},
   "outputs": [],
   "source": [
    "from sklearn.dummy import DummyClassifier\n",
    "from sklearn.linear_model import LogisticRegressionCV\n",
    "from sklearn import svm\n",
    "from sklearn.neural_network import MLPClassifier\n",
    "from sklearn.model_selection import train_test_split\n",
    "from sklearn.metrics import accuracy_score, f1_score\n",
    "\n",
    "import pandas as pd\n",
    "import numpy as np\n",
    "from matplotlib import pyplot as plt\n",
    "# tqdm loading bars\n",
    "from tqdm.notebook import tqdm"
   ]
  },
  {
   "cell_type": "code",
   "execution_count": 2,
   "metadata": {},
   "outputs": [],
   "source": [
    "# GLOBALS\n",
    "# the size of the test and validation splits\n",
    "TEST_SIZE = 0.2\n",
    "NUM_FOLDS = 2"
   ]
  },
  {
   "cell_type": "markdown",
   "metadata": {},
   "source": [
    "# Data\n",
    "\n",
    "We're trying to predict the weather column of this data, which has 178 different labels, which is too much to\n",
    "reasonably classify in this project, so I filter the dataset to only use the top 10 classes, which make up ~95% of the data anyways"
   ]
  },
  {
   "cell_type": "code",
   "execution_count": 75,
   "metadata": {},
   "outputs": [
    {
     "name": "stdout",
     "output_type": "stream",
     "text": [
      "Classes are : ['Mostly Cloudy', 'Mainly Clear', 'Cloudy', 'Clear', 'Snow', 'Rain Showers', 'Rain', 'Fog', 'Ice Crystals', 'Smoke']\n"
     ]
    },
    {
     "data": {
      "text/html": [
       "<div>\n",
       "<style scoped>\n",
       "    .dataframe tbody tr th:only-of-type {\n",
       "        vertical-align: middle;\n",
       "    }\n",
       "\n",
       "    .dataframe tbody tr th {\n",
       "        vertical-align: top;\n",
       "    }\n",
       "\n",
       "    .dataframe thead th {\n",
       "        text-align: right;\n",
       "    }\n",
       "</style>\n",
       "<table border=\"1\" class=\"dataframe\">\n",
       "  <thead>\n",
       "    <tr style=\"text-align: right;\">\n",
       "      <th></th>\n",
       "      <th>TempC</th>\n",
       "      <th>RelHumPct</th>\n",
       "      <th>PkPa</th>\n",
       "      <th>Weather</th>\n",
       "    </tr>\n",
       "  </thead>\n",
       "  <tbody>\n",
       "    <tr>\n",
       "      <th>0</th>\n",
       "      <td>-8.3</td>\n",
       "      <td>96.0</td>\n",
       "      <td>92.59</td>\n",
       "      <td>Clear</td>\n",
       "    </tr>\n",
       "    <tr>\n",
       "      <th>1</th>\n",
       "      <td>-8.9</td>\n",
       "      <td>90.0</td>\n",
       "      <td>92.64</td>\n",
       "      <td>Clear</td>\n",
       "    </tr>\n",
       "    <tr>\n",
       "      <th>2</th>\n",
       "      <td>-8.9</td>\n",
       "      <td>90.0</td>\n",
       "      <td>92.71</td>\n",
       "      <td>Clear</td>\n",
       "    </tr>\n",
       "    <tr>\n",
       "      <th>3</th>\n",
       "      <td>-10.0</td>\n",
       "      <td>93.0</td>\n",
       "      <td>92.79</td>\n",
       "      <td>Clear</td>\n",
       "    </tr>\n",
       "    <tr>\n",
       "      <th>4</th>\n",
       "      <td>-11.1</td>\n",
       "      <td>92.0</td>\n",
       "      <td>92.84</td>\n",
       "      <td>Clear</td>\n",
       "    </tr>\n",
       "    <tr>\n",
       "      <th>...</th>\n",
       "      <td>...</td>\n",
       "      <td>...</td>\n",
       "      <td>...</td>\n",
       "      <td>...</td>\n",
       "    </tr>\n",
       "    <tr>\n",
       "      <th>361473</th>\n",
       "      <td>6.0</td>\n",
       "      <td>42.0</td>\n",
       "      <td>94.63</td>\n",
       "      <td>Clear</td>\n",
       "    </tr>\n",
       "    <tr>\n",
       "      <th>361474</th>\n",
       "      <td>7.1</td>\n",
       "      <td>39.0</td>\n",
       "      <td>94.60</td>\n",
       "      <td>Clear</td>\n",
       "    </tr>\n",
       "    <tr>\n",
       "      <th>361475</th>\n",
       "      <td>7.4</td>\n",
       "      <td>37.0</td>\n",
       "      <td>94.60</td>\n",
       "      <td>Clear</td>\n",
       "    </tr>\n",
       "    <tr>\n",
       "      <th>361476</th>\n",
       "      <td>7.2</td>\n",
       "      <td>38.0</td>\n",
       "      <td>94.63</td>\n",
       "      <td>Clear</td>\n",
       "    </tr>\n",
       "    <tr>\n",
       "      <th>361477</th>\n",
       "      <td>7.1</td>\n",
       "      <td>35.0</td>\n",
       "      <td>94.66</td>\n",
       "      <td>Clear</td>\n",
       "    </tr>\n",
       "  </tbody>\n",
       "</table>\n",
       "<p>345572 rows × 4 columns</p>\n",
       "</div>"
      ],
      "text/plain": [
       "        TempC  RelHumPct   PkPa Weather\n",
       "0        -8.3       96.0  92.59   Clear\n",
       "1        -8.9       90.0  92.64   Clear\n",
       "2        -8.9       90.0  92.71   Clear\n",
       "3       -10.0       93.0  92.79   Clear\n",
       "4       -11.1       92.0  92.84   Clear\n",
       "...       ...        ...    ...     ...\n",
       "361473    6.0       42.0  94.63   Clear\n",
       "361474    7.1       39.0  94.60   Clear\n",
       "361475    7.4       37.0  94.60   Clear\n",
       "361476    7.2       38.0  94.63   Clear\n",
       "361477    7.1       35.0  94.66   Clear\n",
       "\n",
       "[345572 rows x 4 columns]"
      ]
     },
     "execution_count": 75,
     "metadata": {},
     "output_type": "execute_result"
    }
   ],
   "source": [
    "# load in data\n",
    "data = pd.read_csv(\"weather_data.csv\")\n",
    "\n",
    "# extract classes and counts\n",
    "classes, counts = np.unique(data[['Weather']].values, return_counts=True)\n",
    "classes = sorted(list(zip(classes, counts)), key=lambda x: -x[1])[:10]\n",
    "classes = list(map(lambda x: x[0], classes))\n",
    "print(\"Classes are : {}\".format(classes))\n",
    "\n",
    "data[['TempC','RelHumPct', 'PkPa', 'Weather']].loc[data['Weather'].isin(classes)]"
   ]
  },
  {
   "cell_type": "code",
   "execution_count": 76,
   "metadata": {},
   "outputs": [],
   "source": [
    "X = data[['TempC', 'RelHumPct', \"PkPa\"]]\n",
    "y = data[['Weather']]"
   ]
  },
  {
   "cell_type": "markdown",
   "metadata": {},
   "source": [
    "### Train, validation, test\n",
    "I use built-in scikit-learn train_test_split to split the data into train, validation, and test datasets \n",
    "\n",
    "All 3 models will be trained on the same train, test, val datasets to compare effectively"
   ]
  },
  {
   "cell_type": "code",
   "execution_count": 80,
   "metadata": {},
   "outputs": [],
   "source": [
    "X_train, X_test, y_train, y_test = train_test_split(X, y, test_size=TEST_SIZE, random_state = 69)\n",
    "X_train, X_val, y_train, y_val = train_test_split(X_train, y_train, test_size=TEST_SIZE, random_state = 69)"
   ]
  },
  {
   "cell_type": "markdown",
   "metadata": {},
   "source": [
    "# Classifiers\n",
    "\n",
    "Here I train, validate and test all 4 classifiers, reporting the accuracy and weighted f1-score.\n",
    "I use accuracy here because it's a simple metric to intuitively understand, while it is somewhat flawed\n",
    "and weighted f1 since there is an imbalance of labels and so there's some value to scaling weighting the score\n",
    "differently for different labels"
   ]
  },
  {
   "cell_type": "markdown",
   "metadata": {},
   "source": [
    "## Baseline Classifier\n",
    "\n",
    "As a baseline, I use the scikit-learn DummyClassifier using the \"most_frequent\" strategy\n",
    "which is simply a max class classifier. In theory this should perform the worst out of the 4 classifiers"
   ]
  },
  {
   "cell_type": "code",
   "execution_count": 103,
   "metadata": {},
   "outputs": [
    {
     "name": "stdout",
     "output_type": "stream",
     "text": [
      "Dummmy classifier has accuracy 0.334500\n",
      "Dummmy classifier has weighted f1-score 0.167689\n"
     ]
    }
   ],
   "source": [
    "dummy = DummyClassifier(strategy=\"most_frequent\")\n",
    "dummy.fit(X_train, y_train)\n",
    "y_hat = dummy.predict(X_test)\n",
    "print(\"Dummmy classifier has accuracy {:f}\".format(accuracy_score(y_test, y_hat)))\n",
    "print(\"Dummmy classifier has weighted f1-score {:f}\".format(f1_score(y_test, y_hat, average=\"weighted\")))"
   ]
  },
  {
   "cell_type": "markdown",
   "metadata": {},
   "source": [
    "## Logistic Regression\n",
    "\n",
    "My first model is a Logistic Regression classifier,"
   ]
  },
  {
   "cell_type": "code",
   "execution_count": 79,
   "metadata": {},
   "outputs": [],
   "source": [
    "logit = LogisticRegressionCV()"
   ]
  },
  {
   "cell_type": "code",
   "execution_count": null,
   "metadata": {},
   "outputs": [],
   "source": []
  },
  {
   "cell_type": "code",
   "execution_count": null,
   "metadata": {},
   "outputs": [],
   "source": []
  }
 ],
 "metadata": {
  "kernelspec": {
   "display_name": "Python 3",
   "language": "python",
   "name": "python3"
  },
  "language_info": {
   "codemirror_mode": {
    "name": "ipython",
    "version": 3
   },
   "file_extension": ".py",
   "mimetype": "text/x-python",
   "name": "python",
   "nbconvert_exporter": "python",
   "pygments_lexer": "ipython3",
   "version": "3.6.8"
  }
 },
 "nbformat": 4,
 "nbformat_minor": 2
}
