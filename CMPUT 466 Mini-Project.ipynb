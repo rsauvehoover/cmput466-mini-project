{
 "cells": [
  {
   "cell_type": "markdown",
   "metadata": {},
   "source": [
    "## Machine Learning Problem\n",
    "\n",
    "The dataset is weather data from the edmonton city-center from 1961 to 1994, with the goal to predict weather \"descriptions\" (i.e. cloudy, snow, rain etc) from features (temperature, relhumidity, pressure)\n",
    "\n",
    "\n",
    "### Classifiers\n",
    "I choose 3 classifiers + the baseline to explore the performance of different algorithms, all using the\n",
    "scikit-learn implementations\n",
    "\\begin{itemize}\n",
    "    \\item There's the obvious baseline of a $\\frac{1}{k}$ zero-classifier, which we will hopefully outperform\n",
    "    \\item Linear regression as a basic model\n",
    "    \\item SVM\n",
    "    \\item and a relatively simple multi-layer perceptron neural net from SKLearn\n",
    "\\end{itemize}"
   ]
  },
  {
   "cell_type": "code",
   "execution_count": 4,
   "metadata": {},
   "outputs": [],
   "source": [
    "from sklearn.linear_model import LogisticRegressionCV\n",
    "from sklearn import svm\n",
    "from sklearn.neural_network import MLPClassifier\n",
    "from sklearn.model_selection import train_test_split\n",
    "\n",
    "import pandas as pd\n",
    "import numpy as np\n",
    "from matplotlib import pyplot as plt\n",
    "# tqdm loading bars\n",
    "from tqdm.notebook import tqdm"
   ]
  },
  {
   "cell_type": "code",
   "execution_count": null,
   "metadata": {},
   "outputs": [],
   "source": [
    "# GLOBALS\n",
    "# the size of the test and validation splits\n",
    "TEST_SIZE = 0.2"
   ]
  },
  {
   "cell_type": "code",
   "execution_count": 2,
   "metadata": {},
   "outputs": [
    {
     "data": {
      "text/html": [
       "<div>\n",
       "<style scoped>\n",
       "    .dataframe tbody tr th:only-of-type {\n",
       "        vertical-align: middle;\n",
       "    }\n",
       "\n",
       "    .dataframe tbody tr th {\n",
       "        vertical-align: top;\n",
       "    }\n",
       "\n",
       "    .dataframe thead th {\n",
       "        text-align: right;\n",
       "    }\n",
       "</style>\n",
       "<table border=\"1\" class=\"dataframe\">\n",
       "  <thead>\n",
       "    <tr style=\"text-align: right;\">\n",
       "      <th></th>\n",
       "      <th>TempC</th>\n",
       "      <th>RelHumPct</th>\n",
       "      <th>PkPa</th>\n",
       "      <th>Weather</th>\n",
       "    </tr>\n",
       "  </thead>\n",
       "  <tbody>\n",
       "    <tr>\n",
       "      <th>0</th>\n",
       "      <td>-8.3</td>\n",
       "      <td>96.0</td>\n",
       "      <td>92.59</td>\n",
       "      <td>Clear</td>\n",
       "    </tr>\n",
       "    <tr>\n",
       "      <th>1</th>\n",
       "      <td>-8.9</td>\n",
       "      <td>90.0</td>\n",
       "      <td>92.64</td>\n",
       "      <td>Clear</td>\n",
       "    </tr>\n",
       "    <tr>\n",
       "      <th>2</th>\n",
       "      <td>-8.9</td>\n",
       "      <td>90.0</td>\n",
       "      <td>92.71</td>\n",
       "      <td>Clear</td>\n",
       "    </tr>\n",
       "    <tr>\n",
       "      <th>3</th>\n",
       "      <td>-10.0</td>\n",
       "      <td>93.0</td>\n",
       "      <td>92.79</td>\n",
       "      <td>Clear</td>\n",
       "    </tr>\n",
       "    <tr>\n",
       "      <th>4</th>\n",
       "      <td>-11.1</td>\n",
       "      <td>92.0</td>\n",
       "      <td>92.84</td>\n",
       "      <td>Clear</td>\n",
       "    </tr>\n",
       "    <tr>\n",
       "      <th>...</th>\n",
       "      <td>...</td>\n",
       "      <td>...</td>\n",
       "      <td>...</td>\n",
       "      <td>...</td>\n",
       "    </tr>\n",
       "    <tr>\n",
       "      <th>361473</th>\n",
       "      <td>6.0</td>\n",
       "      <td>42.0</td>\n",
       "      <td>94.63</td>\n",
       "      <td>Clear</td>\n",
       "    </tr>\n",
       "    <tr>\n",
       "      <th>361474</th>\n",
       "      <td>7.1</td>\n",
       "      <td>39.0</td>\n",
       "      <td>94.60</td>\n",
       "      <td>Clear</td>\n",
       "    </tr>\n",
       "    <tr>\n",
       "      <th>361475</th>\n",
       "      <td>7.4</td>\n",
       "      <td>37.0</td>\n",
       "      <td>94.60</td>\n",
       "      <td>Clear</td>\n",
       "    </tr>\n",
       "    <tr>\n",
       "      <th>361476</th>\n",
       "      <td>7.2</td>\n",
       "      <td>38.0</td>\n",
       "      <td>94.63</td>\n",
       "      <td>Clear</td>\n",
       "    </tr>\n",
       "    <tr>\n",
       "      <th>361477</th>\n",
       "      <td>7.1</td>\n",
       "      <td>35.0</td>\n",
       "      <td>94.66</td>\n",
       "      <td>Clear</td>\n",
       "    </tr>\n",
       "  </tbody>\n",
       "</table>\n",
       "<p>361478 rows × 4 columns</p>\n",
       "</div>"
      ],
      "text/plain": [
       "        TempC  RelHumPct   PkPa Weather\n",
       "0        -8.3       96.0  92.59   Clear\n",
       "1        -8.9       90.0  92.64   Clear\n",
       "2        -8.9       90.0  92.71   Clear\n",
       "3       -10.0       93.0  92.79   Clear\n",
       "4       -11.1       92.0  92.84   Clear\n",
       "...       ...        ...    ...     ...\n",
       "361473    6.0       42.0  94.63   Clear\n",
       "361474    7.1       39.0  94.60   Clear\n",
       "361475    7.4       37.0  94.60   Clear\n",
       "361476    7.2       38.0  94.63   Clear\n",
       "361477    7.1       35.0  94.66   Clear\n",
       "\n",
       "[361478 rows x 4 columns]"
      ]
     },
     "execution_count": 2,
     "metadata": {},
     "output_type": "execute_result"
    }
   ],
   "source": [
    "data = pd.read_csv(\"weather_data.csv\")\n",
    "data[['TempC','RelHumPct', 'PkPa', 'Weather']]"
   ]
  },
  {
   "cell_type": "code",
   "execution_count": 3,
   "metadata": {},
   "outputs": [],
   "source": [
    "X = data[['TempC', 'RelHumPct', \"PkPa\"]]\n",
    "y = data[['Weather']]"
   ]
  },
  {
   "cell_type": "markdown",
   "metadata": {},
   "source": [
    "### Train, validation, test\n",
    "I use built-in scikit-learn train_test_split to split the data into train, validation, and test datasets "
   ]
  },
  {
   "cell_type": "code",
   "execution_count": 5,
   "metadata": {},
   "outputs": [],
   "source": [
    "X_train, X_test, y_train, y_test = train_test_split(X, y, test_size=0.2, random_state = 69)\n",
    "X_train, X_val, y_train, y_val = train_test_split(X_train, y_train, test_size=0.2, random_state = 69)"
   ]
  },
  {
   "cell_type": "code",
   "execution_count": null,
   "metadata": {},
   "outputs": [],
   "source": []
  },
  {
   "cell_type": "code",
   "execution_count": null,
   "metadata": {},
   "outputs": [],
   "source": []
  }
 ],
 "metadata": {
  "kernelspec": {
   "display_name": "Python 3",
   "language": "python",
   "name": "python3"
  },
  "language_info": {
   "codemirror_mode": {
    "name": "ipython",
    "version": 3
   },
   "file_extension": ".py",
   "mimetype": "text/x-python",
   "name": "python",
   "nbconvert_exporter": "python",
   "pygments_lexer": "ipython3",
   "version": "3.6.8"
  }
 },
 "nbformat": 4,
 "nbformat_minor": 2
}
