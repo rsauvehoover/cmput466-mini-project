{
 "cells": [
  {
   "cell_type": "markdown",
   "metadata": {},
   "source": [
    "# Machine Learning Problem\n",
    "\n",
    "The dataset is weather data from the edmonton city-center from 1961 to 1994\n",
    "\n",
    "The goal is to predict weather \"descriptions\" (i.e. cloudy, snow, rain etc) from features (temperature, relhumidity, pressure)\n",
    "\n",
    "&nbsp;\n",
    "&nbsp;\n",
    "&nbsp;\n",
    "   \n",
    "Inputs are: temperature (°c), relative humidity (%), and pressure (kPa)\n",
    "\n",
    "Output: a weather description in the following set {Clear, Cloudy, Fog, Ice Crystals, Mainly Clear, Mostly Cloudy, Rain, Rain Showers, Snow}\n",
    "\n",
    "## Classifiers\n",
    "I choose 3 classifiers + the baseline to explore the performance of different algorithms, all using the\n",
    "scikit-learn implementations\n",
    "\\begin{itemize}\n",
    "    \\item There's the obvious baseline of a $\\frac{1}{k}$ zero-classifier, which we will hopefully outperform\n",
    "    \\item Linear regression as a basic model\n",
    "    \\item SVM (sklearn SVC)\n",
    "    \\item and a relatively simple multi-layer perceptron neural net from SKLearn (sklearn MLPClassifier)\n",
    "\\end{itemize}"
   ]
  },
  {
   "cell_type": "code",
   "execution_count": 129,
   "metadata": {},
   "outputs": [],
   "source": [
    "from sklearn import preprocessing\n",
    "\n",
    "from sklearn.linear_model import LogisticRegression\n",
    "from sklearn.model_selection import validation_curve\n",
    "from sklearn.model_selection import learning_curve\n",
    "from sklearn.model_selection import GridSearchCV\n",
    "from sklearn.model_selection import train_test_split\n",
    "\n",
    "from sklearn.dummy import DummyClassifier\n",
    "from sklearn.svm import SVC\n",
    "from sklearn.linear_model import SGDClassifier\n",
    "from sklearn.neural_network import MLPClassifier\n",
    "from sklearn.metrics import accuracy_score\n",
    "from sklearn.metrics import classification_report\n",
    "from sklearn.metrics import balanced_accuracy_score\n",
    "\n",
    "import pandas as pd\n",
    "import numpy as np\n",
    "from matplotlib import pyplot as plt"
   ]
  },
  {
   "cell_type": "code",
   "execution_count": 3,
   "metadata": {},
   "outputs": [],
   "source": [
    "# GLOBALS\n",
    "# the size of the test and validation splits\n",
    "TEST_SIZE = 0.2\n",
    "# our random seed to use\n",
    "RANDOM_STATE = 69"
   ]
  },
  {
   "cell_type": "markdown",
   "metadata": {},
   "source": [
    "# Data\n",
    "\n",
    "We're trying to predict the weather column of this data, which has 178 different labels, which is too much to\n",
    "reasonably classify in this project, so I filter the dataset to only use the top 10 classes, which make up ~95% of the data anyways\n",
    "\n",
    "I also remove any rows containing NaN\n",
    "\n",
    "Since my dataset is pretty unbalanced I choose to take ~10000 samples from each class to build up the dataset "
   ]
  },
  {
   "cell_type": "code",
   "execution_count": 120,
   "metadata": {},
   "outputs": [
    {
     "name": "stdout",
     "output_type": "stream",
     "text": [
      "Classes with counts are : [('Mostly Cloudy', 121373), ('Mainly Clear', 99069), ('Cloudy', 45023), ('Clear', 31173), ('Snow', 25218), ('Rain Showers', 6916), ('Rain', 6347), ('Fog', 5068), ('Ice Crystals', 3636)]\n"
     ]
    }
   ],
   "source": [
    "# load in data\n",
    "data = pd.read_csv(\"weather_data.csv\")\n",
    "\n",
    "# extract classes and counts\n",
    "classes, counts = np.unique(data[['Weather']].values, return_counts=True)\n",
    "classes = sorted(list(zip(classes, counts)), key=lambda x: -x[1])[:9]\n",
    "print(\"Classes with counts are : {}\".format(classes))\n",
    "classes = list(map(lambda x: x[0], classes))\n",
    "\n",
    "data = data[['TempC','RelHumPct', 'PkPa', 'Weather']].loc[data['Weather'].isin(classes)].dropna()\n",
    "\n",
    "# \n",
    "data = data.groupby('Weather').apply(lambda x: x.sample(min(len(x), 10000)))"
   ]
  },
  {
   "cell_type": "code",
   "execution_count": 121,
   "metadata": {},
   "outputs": [],
   "source": [
    "X = data[['TempC', 'RelHumPct', \"PkPa\"]]\n",
    "y = data[['Weather']]"
   ]
  },
  {
   "cell_type": "markdown",
   "metadata": {},
   "source": [
    "### Train, validation, test\n",
    "I use built-in scikit-learn train_test_split to split the data into train and test datasets \n",
    "In this step I only split into train and test datasets, since I will be using built in k-fold validation which does\n",
    "the splits automatically (only on the training data of course, the test data is still completely separate)\n",
    "\n",
    "I extract both a unscaled X_train... and a \n",
    "scaled X_train_scaled... (using a minmax scaler)"
   ]
  },
  {
   "cell_type": "code",
   "execution_count": 122,
   "metadata": {},
   "outputs": [],
   "source": [
    "X_train, X_test, y_train, y_test = train_test_split(X, y, test_size=TEST_SIZE, random_state = RANDOM_STATE)\n",
    "\n",
    "# scale a copy of the data (y is just classes so doesn't need to be scaled)\n",
    "min_max_scaler = preprocessing.MinMaxScaler()\n",
    "X_scaled = min_max_scaler.fit_transform(X)\n",
    "# we're using the same random state as the other split, so we don't need to worry about\n",
    "# pulling out the y values from it\n",
    "X_train_scaled, X_test_scaled, _, _ = train_test_split(X_scaled, y, test_size=TEST_SIZE, \n",
    "                                                       random_state = RANDOM_STATE)"
   ]
  },
  {
   "cell_type": "markdown",
   "metadata": {},
   "source": [
    "# Classifiers\n",
    "\n",
    "Here I train, validate and test all 4 classifiers, reporting the accuracy and a balanced accuracy score.\n",
    "I use accuracy here because it's a simple metric to intuitively understand, and balanced accuracy since it averages recall per class, which handles the imbalanced classes a little better\n",
    "differently for different labels\n",
    "\n",
    "For each classifier I also output the detailed classification report from sklearn.metrics classification_report. This is to give me an idea of what's going on with the other usual metrics, but I'm still generally focussing on the balanced accuracy score for these classifiers."
   ]
  },
  {
   "cell_type": "markdown",
   "metadata": {},
   "source": [
    "## Baseline Classifier\n",
    "\n",
    "As a baseline, I use the scikit-learn DummyClassifier using the \"most_frequent\" strategy\n",
    "which is simply a max class classifier as well as the \"uniform\" strategy which just generates predictions\n",
    "uniformly at random across the classes.\n",
    "\n",
    "I would expect this to perform the worst out of the 4 classifiers\n",
    "\n",
    "In the detailed report, zeros are just due to the most_frequent classifier never classifying the smaller classes\n",
    "and so precision and recall cannot be calculated without a zero-division. zeros are to be ignored."
   ]
  },
  {
   "cell_type": "code",
   "execution_count": 123,
   "metadata": {},
   "outputs": [
    {
     "name": "stdout",
     "output_type": "stream",
     "text": [
      "Detailed Report:\n",
      "\n",
      "               precision    recall  f1-score   support\n",
      "\n",
      "        Clear       0.00      0.00      0.00      2010\n",
      "       Cloudy       0.14      1.00      0.24      1979\n",
      "          Fog       0.00      0.00      0.00       975\n",
      " Ice Crystals       0.00      0.00      0.00       758\n",
      " Mainly Clear       0.00      0.00      0.00      2009\n",
      "Mostly Cloudy       0.00      0.00      0.00      1989\n",
      "         Rain       0.00      0.00      0.00      1269\n",
      " Rain Showers       0.00      0.00      0.00      1406\n",
      "         Snow       0.00      0.00      0.00      1999\n",
      "\n",
      "     accuracy                           0.14     14394\n",
      "    macro avg       0.02      0.11      0.03     14394\n",
      " weighted avg       0.02      0.14      0.03     14394\n",
      "\n",
      "~~~~~~~~~~~~~~~~~~~~~~~~~~~~~~~~~~~~~~~~~~~~~~~~~~~~~~~~~~~~\n",
      "Dummmy classifier (most frequent) has accuracy 0.137488\n",
      "Dummmy classifier (most frequent) has balanced accuracy score 0.111111\n",
      "\n",
      "Detailed Report:\n",
      "\n",
      "               precision    recall  f1-score   support\n",
      "\n",
      "        Clear       0.14      0.11      0.13      2010\n",
      "       Cloudy       0.13      0.11      0.12      1979\n",
      "          Fog       0.07      0.11      0.09       975\n",
      " Ice Crystals       0.06      0.12      0.08       758\n",
      " Mainly Clear       0.13      0.10      0.12      2009\n",
      "Mostly Cloudy       0.14      0.11      0.13      1989\n",
      "         Rain       0.09      0.11      0.10      1269\n",
      " Rain Showers       0.10      0.11      0.11      1406\n",
      "         Snow       0.14      0.12      0.13      1999\n",
      "\n",
      "     accuracy                           0.11     14394\n",
      "    macro avg       0.11      0.11      0.11     14394\n",
      " weighted avg       0.12      0.11      0.11     14394\n",
      "\n",
      "~~~~~~~~~~~~~~~~~~~~~~~~~~~~~~~~~~~~~~~~~~~~~~~~~~~~~~~~~~~~\n",
      "Dummmy classifier (uniform) has accuracy 0.111852\n",
      "Dummmy classifier (uniform) has balanced accuracy score 0.112330\n"
     ]
    }
   ],
   "source": [
    "dummy = DummyClassifier(strategy=\"most_frequent\")\n",
    "dummy.fit(X_train, y_train)\n",
    "y_hat = dummy.predict(X_test)\n",
    "print(\"Detailed Report:\")\n",
    "print()\n",
    "print(classification_report(y_test, y_hat, zero_division=0))\n",
    "print(\"~\"*60)\n",
    "print(\"Dummmy classifier (most frequent) has accuracy {:f}\".format(accuracy_score(y_test, y_hat)))\n",
    "print(\"Dummmy classifier (most frequent) has balanced accuracy score {:f}\\n\".format(balanced_accuracy_score(y_test, y_hat)))\n",
    "\n",
    "dummy = DummyClassifier(strategy=\"uniform\", random_state=RANDOM_STATE)\n",
    "dummy.fit(X_train, y_train)\n",
    "y_hat = dummy.predict(X_test)\n",
    "print(\"Detailed Report:\")\n",
    "print()\n",
    "print(classification_report(y_test, y_hat, zero_division=0))\n",
    "print(\"~\"*60)\n",
    "print(\"Dummmy classifier (uniform) has accuracy {:f}\".format(accuracy_score(y_test, y_hat)))\n",
    "print(\"Dummmy classifier (uniform) has balanced accuracy score {:f}\".format(balanced_accuracy_score(y_test, y_hat)))"
   ]
  },
  {
   "cell_type": "markdown",
   "metadata": {},
   "source": [
    "### Results\n",
    "\n",
    "Both the dummmy classifiers perform exactly as well as expected, since a little more than 10% of the data is \"mostly cloudy\", and there are 10 classes so the balanced accuracy score is going to be 10%. For the uniform classifier, both values are around 10% which is exactly as expected for a random uniform classifier"
   ]
  },
  {
   "cell_type": "markdown",
   "metadata": {},
   "source": [
    "## Logistic Regression\n",
    "\n",
    "My first model is a Logistic Regression classifier,\n",
    "I use the scikit-learn LogisticRegression and use validation_curve to do cross-fold validation, I then train the model using the best parameters as determined in the validation. I just use the default\n",
    "stratified k-folds built in which should be good enough. NUM_FOLDS can be tuned as needed, as can MAX_ITER\n",
    "\n",
    "I use balanced_accuracy_score for my scoring, since that's my favoured measure of quality in this experiment"
   ]
  },
  {
   "cell_type": "code",
   "execution_count": 124,
   "metadata": {},
   "outputs": [
    {
     "name": "stdout",
     "output_type": "stream",
     "text": [
      "CPU times: user 250 ms, sys: 15.6 ms, total: 266 ms\n",
      "Wall time: 31.1 s\n"
     ]
    }
   ],
   "source": [
    "%%time\n",
    "\n",
    "# number of validation folds for k-fold cross validation\n",
    "NUM_FOLDS = 10\n",
    "# maximum iterations when training our classifier\n",
    "MAX_ITER = 1000\n",
    "\n",
    "logit = LogisticRegression(max_iter=MAX_ITER, class_weight=\"balanced\")\n",
    "\n",
    "param_range = np.array([1, 10, 100, 1000])\n",
    "train_scores, test_scores = validation_curve(logit, X_train_scaled, np.ravel(y_train), \n",
    "                                             param_name=\"C\", cv=NUM_FOLDS, n_jobs=-1,\n",
    "                                             param_range=param_range, scoring=\"balanced_accuracy\")"
   ]
  },
  {
   "cell_type": "markdown",
   "metadata": {},
   "source": [
    "I plot the validation curve as I adjust the regularization strength of the model"
   ]
  },
  {
   "cell_type": "code",
   "execution_count": 125,
   "metadata": {
    "scrolled": false
   },
   "outputs": [
    {
     "data": {
      "image/png": "[encoded data removed]",
      "text/plain": [
       "<Figure size 720x720 with 1 Axes>"
      ]
     },
     "metadata": {
      "needs_background": "light"
     },
     "output_type": "display_data"
    }
   ],
   "source": [
    "%matplotlib inline\n",
    "\n",
    "train_scores_mean = np.mean(train_scores, axis=1)\n",
    "train_scores_std = np.std(train_scores, axis=1)\n",
    "test_scores_mean = np.mean(test_scores, axis=1)\n",
    "test_scores_std = np.std(test_scores, axis=1)\n",
    "_ = plt.figure(figsize=(10,10))\n",
    "_ = plt.title(\"Validation Curve with LogisticRegression\")\n",
    "_ = plt.xlabel(\"C value\")\n",
    "_ = plt.ylabel(\"Score\")\n",
    "_ = plt.plot(np.arange(len(param_range)), train_scores_mean, label=\"Training score\", color=\"r\")\n",
    "_ = plt.plot(np.arange(len(param_range)), test_scores_mean, label=\"Cross-validation score\", color=\"g\")\n",
    "_ = plt.legend(loc=\"best\")\n",
    "_ = plt.xticks(np.arange(len(param_range)), param_range)"
   ]
  },
  {
   "cell_type": "markdown",
   "metadata": {},
   "source": [
    "We see the model perform the best with higher C values, meaning a lower regularization performs better, I then test the performance of the model using these parameters"
   ]
  },
  {
   "cell_type": "code",
   "execution_count": 126,
   "metadata": {},
   "outputs": [
    {
     "name": "stdout",
     "output_type": "stream",
     "text": [
      "Best C is: 1000\n"
     ]
    }
   ],
   "source": [
    "# find the best C value from our validation\n",
    "best_C = param_range[np.argmax(np.mean(test_scores, axis=1))]\n",
    "print(\"Best C is: {}\".format(best_C))"
   ]
  },
  {
   "cell_type": "code",
   "execution_count": 127,
   "metadata": {},
   "outputs": [
    {
     "name": "stdout",
     "output_type": "stream",
     "text": [
      "Detailed Report:\n",
      "\n",
      "               precision    recall  f1-score   support\n",
      "\n",
      "        Clear       0.34      0.29      0.31      2010\n",
      "       Cloudy       0.33      0.25      0.29      1979\n",
      "          Fog       0.40      0.68      0.50       975\n",
      " Ice Crystals       0.35      0.70      0.47       758\n",
      " Mainly Clear       0.32      0.26      0.29      2009\n",
      "Mostly Cloudy       0.29      0.15      0.20      1989\n",
      "         Rain       0.42      0.66      0.52      1269\n",
      " Rain Showers       0.30      0.40      0.34      1406\n",
      "         Snow       0.48      0.37      0.42      1999\n",
      "\n",
      "     accuracy                           0.36     14394\n",
      "    macro avg       0.36      0.42      0.37     14394\n",
      " weighted avg       0.36      0.36      0.35     14394\n",
      "\n",
      "~~~~~~~~~~~~~~~~~~~~~~~~~~~~~~~~~~~~~~~~~~~~~~~~~~~~~~~~~~~~\n",
      "Logistic Regression classifier has accuracy 0.363276\n",
      "Logistic Regression has balanced accuracy score 0.417361\n"
     ]
    }
   ],
   "source": [
    "logit.C = best_C\n",
    "logit.fit(X_train_scaled, np.ravel(y_train))\n",
    "y_hat = logit.predict(X_test_scaled)\n",
    "print(\"Detailed Report:\")\n",
    "print()\n",
    "print(classification_report(y_test, y_hat))\n",
    "print(\"~\"*60)\n",
    "print(\"Logistic Regression classifier has accuracy {:f}\".format(accuracy_score(y_test, y_hat)))\n",
    "print(\"Logistic Regression has balanced accuracy score {:f}\".format(balanced_accuracy_score(y_test, y_hat)))"
   ]
  },
  {
   "cell_type": "markdown",
   "metadata": {},
   "source": [
    "### Results\n",
    "\n",
    "As can be seen, there's a pretty significant increase in accuracy, with us a roughly ~42% balanced accuracy and ~36% lower regular accuracy.\n",
    "\n",
    "This is significantly better than the dummmy classifier as we would expect, and considering this is a dataset with 10 classes, is actually pretty impressive for logistic regression. I suspect the SVM will outperform these results, and so we'll see how impressive this performance really is as we evalutate the last two classifiers"
   ]
  },
  {
   "cell_type": "markdown",
   "metadata": {},
   "source": [
    "## SVM\n",
    "\n",
    "I use an svm classifier next. I use sklearn SVC as my support vector classifier\n",
    "\n",
    "I tune the gamma and C hyperparameters as well as testing both the linear and rbf kernels."
   ]
  },
  {
   "cell_type": "code",
   "execution_count": null,
   "metadata": {},
   "outputs": [],
   "source": [
    "%%time\n",
    "\n",
    "parameters = [{'kernel': ['rbf'], 'gamma': [1e-3, 1e-4], 'C': [1, 10, 100, 1000]},\n",
    "              {'kernel': ['linear'], 'C': [1, 10, 100, 1000]}]\n",
    "\n",
    "svm = GridSearchCV(SVC(class_weight='balanced'), parameters, verbose=True, scoring=\"balanced_accuracy\", n_jobs=-1)\n",
    "\n",
    "svm.fit(X_train_scaled, np.ravel(y_train))\n",
    "print(\"Best parameters are:\")\n",
    "print(svm.best_params_)\n",
    "print(\"~\"*60)\n",
    "print(\"Grid Scores:\")\n",
    "print()\n",
    "means = svm.cv_results_['mean_test_score']\n",
    "stds = svm.cv_results_['std_test_score']\n",
    "for mean, std, params in zip(means, stds, svm.cv_results_['params']):\n",
    "    print(\"{:f} +-{:f} for {}\".format(mean, 2 * std, params))\n",
    "print(\"~\"*60)"
   ]
  },
  {
   "cell_type": "code",
   "execution_count": 128,
   "metadata": {},
   "outputs": [
    {
     "name": "stdout",
     "output_type": "stream",
     "text": [
      "Fitting 5 folds for each of 12 candidates, totalling 60 fits\n"
     ]
    },
    {
     "name": "stderr",
     "output_type": "stream",
     "text": [
      "[Parallel(n_jobs=-1)]: Using backend LokyBackend with 12 concurrent workers.\n",
      "[Parallel(n_jobs=-1)]: Done  26 tasks      | elapsed:  8.6min\n",
      "[Parallel(n_jobs=-1)]: Done  60 out of  60 | elapsed: 14.0min finished\n"
     ]
    },
    {
     "name": "stdout",
     "output_type": "stream",
     "text": [
      "Best parameters are:\n",
      "{'C': 100, 'kernel': 'linear'}\n",
      "~~~~~~~~~~~~~~~~~~~~~~~~~~~~~~~~~~~~~~~~~~~~~~~~~~~~~~~~~~~~\n",
      "Grid Scores:\n",
      "\n",
      "0.297679 +-0.045390 for {'C': 1, 'gamma': 0.001, 'kernel': 'rbf'}\n",
      "0.115970 +-0.019436 for {'C': 1, 'gamma': 0.0001, 'kernel': 'rbf'}\n",
      "0.406882 +-0.010517 for {'C': 10, 'gamma': 0.001, 'kernel': 'rbf'}\n",
      "0.296862 +-0.040545 for {'C': 10, 'gamma': 0.0001, 'kernel': 'rbf'}\n",
      "0.423275 +-0.010027 for {'C': 100, 'gamma': 0.001, 'kernel': 'rbf'}\n",
      "0.406866 +-0.010424 for {'C': 100, 'gamma': 0.0001, 'kernel': 'rbf'}\n",
      "0.425249 +-0.007683 for {'C': 1000, 'gamma': 0.001, 'kernel': 'rbf'}\n",
      "0.423328 +-0.010183 for {'C': 1000, 'gamma': 0.0001, 'kernel': 'rbf'}\n",
      "0.424675 +-0.007964 for {'C': 1, 'kernel': 'linear'}\n",
      "0.425663 +-0.007251 for {'C': 10, 'kernel': 'linear'}\n",
      "0.425764 +-0.006769 for {'C': 100, 'kernel': 'linear'}\n",
      "0.425761 +-0.007188 for {'C': 1000, 'kernel': 'linear'}\n",
      "~~~~~~~~~~~~~~~~~~~~~~~~~~~~~~~~~~~~~~~~~~~~~~~~~~~~~~~~~~~~\n",
      "Detailed Report:\n",
      "\n",
      "               precision    recall  f1-score   support\n",
      "\n",
      "        Clear       0.35      0.26      0.30      2010\n",
      "       Cloudy       0.33      0.26      0.29      1979\n",
      "          Fog       0.40      0.67      0.50       975\n",
      " Ice Crystals       0.35      0.72      0.47       758\n",
      " Mainly Clear       0.32      0.29      0.30      2009\n",
      "Mostly Cloudy       0.30      0.13      0.18      1989\n",
      "         Rain       0.46      0.66      0.54      1269\n",
      " Rain Showers       0.33      0.46      0.38      1406\n",
      "         Snow       0.45      0.38      0.41      1999\n",
      "\n",
      "     accuracy                           0.37     14394\n",
      "    macro avg       0.37      0.43      0.38     14394\n",
      " weighted avg       0.36      0.37      0.35     14394\n",
      "\n",
      "~~~~~~~~~~~~~~~~~~~~~~~~~~~~~~~~~~~~~~~~~~~~~~~~~~~~~~~~~~~~\n",
      "SVC has accuracy 0.3693900236209532\n",
      "SVC has balanced accuracy score 0.425277\n",
      "CPU times: user 1min 16s, sys: 516 ms, total: 1min 17s\n",
      "Wall time: 15min 16s\n"
     ]
    }
   ],
   "source": [
    "y_hat = svm.predict(X_test_scaled)\n",
    "print(\"Detailed Report:\")\n",
    "print()\n",
    "print(classification_report(y_test, y_hat))\n",
    "print(\"~\"*60)\n",
    "\n",
    "print(\"SVC has accuracy {:}\".format(accuracy_score(y_test, y_hat)))\n",
    "print(\"SVC has balanced accuracy score {:f}\".format(balanced_accuracy_score(y_test, y_hat)))"
   ]
  },
  {
   "cell_type": "markdown",
   "metadata": {},
   "source": [
    "### Results\n",
    "\n",
    "As we can see above, the SVM doesn't perform particularly differently from the logistic regression classifier, which is surprising to me as I would've expected to see the SVM outperform the logistic regression classifier at least by a bit, but seeing as the best parameters chosen used a linear kernel, it would lead me to believe that my data is relatively linear and thus the logistic regression should perform reasonably well.\n",
    "\n",
    "Also the linear kernel would mean that both the SVM and logistic regression are trying to solve a linear problem, and thus should achieve somewhat similar results.\n",
    "\n",
    "Despite performing roughly the same, the SVM has a major downside compared to the logit, in that the training time is significantly higher at around 15 minutes including hyperparameter tuning. So in practice, given that both SVM and logistic regression are performing about the same, I would prefer to use logistic regression most of the time due to the significantly reduced training cost."
   ]
  },
  {
   "cell_type": "markdown",
   "metadata": {},
   "source": [
    "## MLPClassifier\n",
    "\n",
    "I use sklearns Multi-layer perceptron classifier here for my simple neural net, "
   ]
  },
  {
   "cell_type": "code",
   "execution_count": null,
   "metadata": {},
   "outputs": [
    {
     "name": "stdout",
     "output_type": "stream",
     "text": [
      "Fitting 5 folds for each of 216 candidates, totalling 1080 fits\n"
     ]
    },
    {
     "name": "stderr",
     "output_type": "stream",
     "text": [
      "[Parallel(n_jobs=-1)]: Using backend LokyBackend with 12 concurrent workers.\n",
      "[Parallel(n_jobs=-1)]: Done  26 tasks      | elapsed:   32.8s\n",
      "[Parallel(n_jobs=-1)]: Done 176 tasks      | elapsed:  7.5min\n",
      "[Parallel(n_jobs=-1)]: Done 426 tasks      | elapsed: 19.9min\n"
     ]
    }
   ],
   "source": [
    "%%time\n",
    "\n",
    "parameters={\n",
    "    'learning_rate': [\"constant\", \"adaptive\"],\n",
    "    'hidden_layer_sizes': [(30, 30, 30), (30, 20, 10), (100,)],\n",
    "    'alpha': [1e-1, 1e-2, 1e-3, 1e-4, 1e-5, 1e-6],\n",
    "    'solver': ['sgd', 'adam'],\n",
    "    'activation': [\"logistic\", \"relu\", \"tanh\"]\n",
    "}\n",
    "\n",
    "mlp = GridSearchCV(MLPClassifier(), parameters, verbose=True, scoring=\"balanced_accuracy\", n_jobs=-1)\n",
    "\n",
    "mlp.fit(X_train_scaled, np.ravel(y_train))\n",
    "print(\"Best parameters are:\")\n",
    "print(mlp.best_params_)\n",
    "print(\"~\"*60)\n",
    "print(\"Grid Scores:\")\n",
    "print()\n",
    "means = mlp.cv_results_['mean_test_score']\n",
    "stds = mlp.cv_results_['std_test_score']\n",
    "for mean, std, params in zip(means, stds, mlp.cv_results_['params']):\n",
    "    print(\"{:f} +-{:f} for {}\".format(mean, 2 * std, params))\n",
    "print(\"~\"*60)"
   ]
  },
  {
   "cell_type": "code",
   "execution_count": null,
   "metadata": {},
   "outputs": [],
   "source": [
    "y_hat = mlp.predict(X_test_scaled)\n",
    "print(\"Detailed Report:\")\n",
    "print()\n",
    "print(classification_report(y_test, y_hat))\n",
    "print(\"~\"*60)\n",
    "\n",
    "print(\"MLP has accuracy {:}\".format(accuracy_score(y_test, y_hat)))\n",
    "print(\"MLP has balanced accuracy score {:f}\".format(balanced_accuracy_score(y_test, y_hat)))"
   ]
  },
  {
   "cell_type": "code",
   "execution_count": null,
   "metadata": {},
   "outputs": [],
   "source": []
  }
 ],
 "metadata": {
  "kernelspec": {
   "display_name": "Python 3",
   "language": "python",
   "name": "python3"
  },
  "language_info": {
   "codemirror_mode": {
    "name": "ipython",
    "version": 3
   },
   "file_extension": ".py",
   "mimetype": "text/x-python",
   "name": "python",
   "nbconvert_exporter": "python",
   "pygments_lexer": "ipython3",
   "version": "3.6.8"
  }
 },
 "nbformat": 4,
 "nbformat_minor": 2
}
